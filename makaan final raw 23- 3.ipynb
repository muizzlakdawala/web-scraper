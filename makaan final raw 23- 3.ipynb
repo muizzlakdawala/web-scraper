{
 "cells": [
  {
   "cell_type": "code",
   "execution_count": 19,
   "metadata": {},
   "outputs": [],
   "source": [
    "from selenium import webdriver\n",
    "from bs4 import BeautifulSoup\n",
    "import pandas as pd\n",
    "import time\n",
    "from requests import get\n",
    "import itertools\n",
    "import matplotlib.pyplot as plt\n",
    "import seaborn as sns\n",
    "import random\n",
    "sns.set()"
   ]
  },
  {
   "cell_type": "code",
   "execution_count": 20,
   "metadata": {},
   "outputs": [],
   "source": [
    "Configuration = []\n",
    "Description = []\n",
    "Seller_name = []\n",
    "Price = []\n",
    "Agent_type = []\n",
    "Area = []\n",
    "Type_area = []\n",
    "Makaan_rating = []\n",
    "Unit_usp = []"
   ]
  },
  {
   "cell_type": "code",
   "execution_count": null,
   "metadata": {},
   "outputs": [],
   "source": [
    "%%time\n",
    "\n",
    "headers = ({'User-Agent':\n",
    "            'Mozilla/5.0 (Windows NT 6.1) AppleWebKit/537.36 (KHTML, like Gecko) Chrome/41.0.2228.0 Safari/537.36'})\n",
    "\n",
    "n_pages = 0\n",
    "\n",
    "for page in range(0,44):\n",
    "    n_pages += 1\n",
    "    base_url = 'https://www.makaan.com/mumbai-property/bandra-west-flats-for-sale-50326'+'?page='+str(page)\n",
    "    r = get(base_url, headers=headers)\n",
    "    soup = BeautifulSoup(r.text, 'html.parser')\n",
    "    results =  soup.findAll('div', attrs = {'class' : 'cardLayout clearfix'})\n",
    "    if results != []:\n",
    "        for row in results:\n",
    "\n",
    "            Configuration.append(row.find('div',attrs={'class' : 'title-line-wrap'}).get_text())\n",
    "\n",
    "            Seller_name.append(row.find('span', attrs = {'itemprop' : 'name'}).get_text())\n",
    "\n",
    "            Description.append(row.find('div', attrs = {'class' : 'listing-description'}).get_text())\n",
    "\n",
    "            Type_area.append(row.find('td', attrs = {'class' : 'lbl'}).get_text())\n",
    "\n",
    "            Price.append(row.find('td', attrs = {'class' : 'price'}).get_text())\n",
    "\n",
    "            Agent_type.append(row.find('div', attrs = {'class' : 'second-line'}).get_text())\n",
    "\n",
    "            Area.append(row.find('td', attrs = {'class' : 'size',}).get_text())\n",
    "            \n",
    "            Makaan_rating.append(row.find('div', attrs = {'class' : 'review-rating-wrap',}).get_text())\n",
    "    \n",
    "            Unit_usp.append(row.find('ul', attrs = {'class' : 'listing-details'}).get_text())\n",
    "                \n",
    "            \n",
    "    else:\n",
    "        break\n",
    "    \n",
    "    time.sleep(random.randint(1,2))\n",
    "    \n",
    "print('You scraped {} pages containing {} properties.'.format(n_pages, len(Area)))"
   ]
  },
  {
   "cell_type": "code",
   "execution_count": null,
   "metadata": {},
   "outputs": [],
   "source": [
    "            df = pd.DataFrame({\n",
    "                'Configuration' : Configuration,\n",
    "                'Seller Name' : Seller_name,\n",
    "                'Description' : Description,\n",
    "                'Area' : Area,\n",
    "                'Rate of Area' : Type_area,\n",
    "                'Price' : Price,\n",
    "                'Agent type' : Agent_type,\n",
    "                'Makaan rating' : Makaan_rating,\n",
    "                'Unit usp' : Unit_usp,\n",
    "            })\n",
    "            df"
   ]
  },
  {
   "cell_type": "code",
   "execution_count": 12,
   "metadata": {},
   "outputs": [
    {
     "name": "stdout",
     "output_type": "stream",
     "text": [
      "(40, 40, 40, 40, 40, 40, 40)\n"
     ]
    }
   ],
   "source": [
    "print(len(Configuration),\n",
    "      len(Seller_name),\n",
    "      len(Description),\n",
    "      len(Area),\n",
    "      len(Type_area),\n",
    "      len(Price), \n",
    "      len(Agent_type))"
   ]
  },
  {
   "cell_type": "code",
   "execution_count": null,
   "metadata": {},
   "outputs": [],
   "source": []
  },
  {
   "cell_type": "code",
   "execution_count": null,
   "metadata": {},
   "outputs": [],
   "source": []
  },
  {
   "cell_type": "code",
   "execution_count": null,
   "metadata": {},
   "outputs": [],
   "source": []
  }
 ],
 "metadata": {
  "kernelspec": {
   "display_name": "Python 3",
   "language": "python",
   "name": "python3"
  },
  "language_info": {
   "codemirror_mode": {
    "name": "ipython",
    "version": 3
   },
   "file_extension": ".py",
   "mimetype": "text/x-python",
   "name": "python",
   "nbconvert_exporter": "python",
   "pygments_lexer": "ipython3",
   "version": "3.7.7"
  }
 },
 "nbformat": 4,
 "nbformat_minor": 2
}
